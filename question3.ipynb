{
 "cells": [
  {
   "cell_type": "code",
   "execution_count": 1,
   "id": "aa543ce9",
   "metadata": {},
   "outputs": [],
   "source": [
    "from sparse_sig import *\n",
    "from data_loader import *\n",
    "from tqdm import tqdm\n",
    "import numpy as np\n",
    "import matplotlib.pyplot as plt\n",
    "%matplotlib notebook"
   ]
  },
  {
   "cell_type": "code",
   "execution_count": 2,
   "id": "3ea1b5ad",
   "metadata": {},
   "outputs": [],
   "source": [
    "A, x0 = load_signal()"
   ]
  },
  {
   "cell_type": "code",
   "execution_count": 3,
   "id": "fe1a18d3",
   "metadata": {},
   "outputs": [],
   "source": [
    "b = np.matmul(A, x0)"
   ]
  },
  {
   "cell_type": "code",
   "execution_count": 4,
   "id": "745130dd",
   "metadata": {},
   "outputs": [],
   "source": [
    "lam = 0.01*2*np.max(np.abs(np.matmul(A.T, b)))\n",
    "t = 0.5\n",
    "epsilon = 0.1 # central path convergence\n",
    "delta = 0.1 # target duality gap\n",
    "n = 256\n",
    "mu = 1.1"
   ]
  },
  {
   "cell_type": "code",
   "execution_count": 5,
   "id": "f6f00bfa",
   "metadata": {},
   "outputs": [],
   "source": [
    "xinit = np.zeros(n)\n",
    "uinit = np.ones(n)\n",
    "coords = np.concatenate((xinit, uinit))"
   ]
  },
  {
   "cell_type": "code",
   "execution_count": 6,
   "id": "077be5c6",
   "metadata": {},
   "outputs": [],
   "source": [
    "i=0\n",
    "# while 2*n/t > delta:\n",
    "#     while np.linalg.norm(grad_phi(A, b, lam, t, coords[:256], coords[256:])) > epsilon:\n",
    "#         coords_old = coords\n",
    "#         coords = newton_step(A, b, lam, t, coords_old)\n",
    "#     t *= mu\n",
    "coords, topt = barrier_method(A, b, lam, 1., coords, n, 0.1, 0.1, 1.1, grad_phi)"
   ]
  },
  {
   "cell_type": "code",
   "execution_count": 7,
   "id": "2b33f0dc",
   "metadata": {},
   "outputs": [
    {
     "ename": "TypeError",
     "evalue": "minimum_energy() missing 1 required positional argument: 'delta'",
     "output_type": "error",
     "traceback": [
      "\u001b[1;31m---------------------------------------------------------------------------\u001b[0m",
      "\u001b[1;31mTypeError\u001b[0m                                 Traceback (most recent call last)",
      "\u001b[1;32m~\\AppData\\Local\\Temp/ipykernel_11620/4059512303.py\u001b[0m in \u001b[0;36m<module>\u001b[1;34m\u001b[0m\n\u001b[1;32m----> 1\u001b[1;33m \u001b[0mmin_en\u001b[0m \u001b[1;33m=\u001b[0m \u001b[0mminimum_energy\u001b[0m\u001b[1;33m(\u001b[0m\u001b[0mA\u001b[0m\u001b[1;33m,\u001b[0m \u001b[0mb\u001b[0m\u001b[1;33m)\u001b[0m\u001b[1;33m.\u001b[0m\u001b[0mflatten\u001b[0m\u001b[1;33m(\u001b[0m\u001b[1;33m)\u001b[0m\u001b[1;33m\u001b[0m\u001b[1;33m\u001b[0m\u001b[0m\n\u001b[0m",
      "\u001b[1;31mTypeError\u001b[0m: minimum_energy() missing 1 required positional argument: 'delta'"
     ]
    }
   ],
   "source": [
    "min_en = minimum_energy(A, b).flatten()"
   ]
  },
  {
   "cell_type": "code",
   "execution_count": null,
   "id": "d66251a0",
   "metadata": {},
   "outputs": [],
   "source": [
    "fig, [ax1, ax2, ax3] = plt.subplots(nrows=3)\n",
    "ax1.step(np.arange(256), x0)\n",
    "ax2.step(np.arange(256), coords[:256])\n",
    "ax3.step(np.arange(256), min_en)"
   ]
  },
  {
   "cell_type": "code",
   "execution_count": null,
   "id": "ff3e80b5",
   "metadata": {},
   "outputs": [],
   "source": [
    "min_en.shape"
   ]
  },
  {
   "cell_type": "code",
   "execution_count": null,
   "id": "b1261413",
   "metadata": {},
   "outputs": [],
   "source": [
    "coords[:256]"
   ]
  },
  {
   "cell_type": "code",
   "execution_count": null,
   "id": "01970210",
   "metadata": {},
   "outputs": [],
   "source": [
    "central_phi(A, b, lam, topt, coords[:256], coords[256:])"
   ]
  },
  {
   "cell_type": "code",
   "execution_count": null,
   "id": "731d9f87",
   "metadata": {},
   "outputs": [],
   "source": [
    "np.linalg.norm(np.matmul(A, min_en)-b)**2"
   ]
  },
  {
   "cell_type": "code",
   "execution_count": null,
   "id": "5f64554e",
   "metadata": {},
   "outputs": [],
   "source": [
    "np.linalg.norm(np.matmul(A, coords[:256])-b)**2"
   ]
  },
  {
   "cell_type": "code",
   "execution_count": null,
   "id": "ab4aefed",
   "metadata": {},
   "outputs": [],
   "source": []
  }
 ],
 "metadata": {
  "kernelspec": {
   "display_name": "Python 3 (ipykernel)",
   "language": "python",
   "name": "python3"
  },
  "language_info": {
   "codemirror_mode": {
    "name": "ipython",
    "version": 3
   },
   "file_extension": ".py",
   "mimetype": "text/x-python",
   "name": "python",
   "nbconvert_exporter": "python",
   "pygments_lexer": "ipython3",
   "version": "3.9.7"
  }
 },
 "nbformat": 4,
 "nbformat_minor": 5
}
