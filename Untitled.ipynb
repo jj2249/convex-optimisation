{
 "cells": [
  {
   "cell_type": "code",
   "execution_count": 1,
   "id": "8c086cf7",
   "metadata": {},
   "outputs": [
    {
     "name": "stderr",
     "output_type": "stream",
     "text": [
      "UsageError: Line magic function `%loadext` not found.\n"
     ]
    }
   ],
   "source": [
    "import numpy as np\n",
    "from data_loader import load_npy\n",
    "import matplotlib.pyplot as plt\n",
    "from cvxopt import matrix\n",
    "%matplotlib notebook\n",
    "%loadext auto_reload\n",
    "%auto_reload 2"
   ]
  },
  {
   "cell_type": "markdown",
   "id": "2ea84c2d",
   "metadata": {},
   "source": [
    "# Norm approximation"
   ]
  },
  {
   "cell_type": "code",
   "execution_count": 2,
   "id": "8c3279b9",
   "metadata": {},
   "outputs": [],
   "source": [
    "a1, b1 = load_npy(1)\n",
    "a2, b2 = load_npy(2)\n",
    "a3, b3 = load_npy(3)\n",
    "a4, b4 = load_npy(4)\n",
    "a5, b5 = load_npy(5)"
   ]
  },
  {
   "cell_type": "code",
   "execution_count": 3,
   "id": "cedc5197",
   "metadata": {},
   "outputs": [],
   "source": [
    "from norm_approximation import solve_linf, solve_lone, solve_ltwo"
   ]
  },
  {
   "cell_type": "code",
   "execution_count": 4,
   "id": "48438440",
   "metadata": {
    "scrolled": true
   },
   "outputs": [
    {
     "name": "stdout",
     "output_type": "stream",
     "text": [
      "     pcost       dcost       gap    pres   dres   k/t\n",
      " 0:  0.0000e+00 -4.1009e-15  1e+03  4e+00  4e-15  1e+00\n",
      " 1:  7.0053e+01  7.0054e+01  2e+02  6e-01  7e-15  2e-01\n",
      " 2:  1.2442e+02  1.2442e+02  6e+01  2e-01  6e-14  6e-02\n",
      " 3:  1.3688e+02  1.3688e+02  3e+01  9e-02  7e-14  2e-02\n",
      " 4:  1.4170e+02  1.4170e+02  1e+01  3e-02  7e-14  1e-02\n",
      " 5:  1.4362e+02  1.4362e+02  4e+00  1e-02  1e-13  4e-03\n",
      " 6:  1.4438e+02  1.4438e+02  2e+00  6e-03  2e-13  2e-03\n",
      " 7:  1.4471e+02  1.4471e+02  5e-01  2e-03  3e-13  5e-04\n",
      " 8:  1.4479e+02  1.4479e+02  3e-01  9e-04  3e-13  3e-04\n",
      " 9:  1.4484e+02  1.4484e+02  1e-01  3e-04  2e-12  1e-04\n",
      "10:  1.4486e+02  1.4486e+02  2e-02  8e-05  1e-12  2e-05\n",
      "11:  1.4486e+02  1.4486e+02  5e-03  2e-05  1e-12  5e-06\n",
      "12:  1.4486e+02  1.4486e+02  4e-04  1e-06  4e-12  3e-07\n",
      "13:  1.4486e+02  1.4486e+02  4e-06  1e-08  4e-12  4e-09\n",
      "Optimal solution found.\n"
     ]
    }
   ],
   "source": [
    "x, s = solve_lone(a3, b3)"
   ]
  },
  {
   "cell_type": "code",
   "execution_count": 5,
   "id": "a0360e8e",
   "metadata": {},
   "outputs": [
    {
     "name": "stdout",
     "output_type": "stream",
     "text": [
      "[ 1.45e+02]\n",
      "\n"
     ]
    }
   ],
   "source": [
    "n=256\n",
    "m=2*n\n",
    "czs = np.zeros(n)\n",
    "cones = np.ones(m)\n",
    "cstack = np.hstack((czs, cones))\n",
    "c3 = matrix(cstack)\n",
    "print(c3.T*x)"
   ]
  },
  {
   "cell_type": "markdown",
   "id": "80683be7",
   "metadata": {},
   "source": [
    "Optimal value is 145"
   ]
  },
  {
   "cell_type": "markdown",
   "id": "5445d4e8",
   "metadata": {},
   "source": [
    "# Barrier Methods"
   ]
  },
  {
   "cell_type": "code",
   "execution_count": 2,
   "id": "1e266c34",
   "metadata": {},
   "outputs": [],
   "source": [
    "from central_path import *"
   ]
  },
  {
   "cell_type": "code",
   "execution_count": 3,
   "id": "a8221c67",
   "metadata": {},
   "outputs": [],
   "source": [
    "a, b = load_npy(3)\n",
    "m = a.shape[0]\n",
    "n = a.shape[1]\n",
    "at, bt = build_l1_tildes(a, b)\n",
    "c1 = np.zeros(n)\n",
    "c2 = np.ones(m)\n",
    "ct = np.hstack((c1, c2))\n",
    "ct = matrix(ct)"
   ]
  },
  {
   "cell_type": "code",
   "execution_count": 4,
   "id": "95d22932",
   "metadata": {},
   "outputs": [],
   "source": [
    "ts = np.linspace(0.5, 10, 20)"
   ]
  },
  {
   "cell_type": "code",
   "execution_count": 9,
   "id": "bf1428f0",
   "metadata": {},
   "outputs": [
    {
     "name": "stdout",
     "output_type": "stream",
     "text": [
      "     pcost       dcost       gap    pres   dres   k/t\n",
      " 0:  5.0848e+00  2.4176e+01  6e+03  4e+00  3e+03  1e+00\n",
      " 1: -3.6572e+11  1.6414e+01  2e+03  2e+00  1e+03  5e+00\n",
      "Certificate of dual infeasibility found.\n"
     ]
    },
    {
     "name": "stderr",
     "output_type": "stream",
     "text": [
      "D:\\Work\\IIB\\4M17\\Convex Optimisation\\central_path.py:18: RuntimeWarning: invalid value encountered in log\n",
      "  term2 = np.sum(np.log(b - (a*x)), axis=0)\n"
     ]
    },
    {
     "ename": "KeyboardInterrupt",
     "evalue": "",
     "output_type": "error",
     "traceback": [
      "\u001b[1;31m---------------------------------------------------------------------------\u001b[0m",
      "\u001b[1;31mKeyboardInterrupt\u001b[0m                         Traceback (most recent call last)",
      "\u001b[1;32m~\\AppData\\Local\\Temp/ipykernel_24812/4051485513.py\u001b[0m in \u001b[0;36m<module>\u001b[1;34m\u001b[0m\n\u001b[1;32m----> 1\u001b[1;33m \u001b[0mx\u001b[0m \u001b[1;33m=\u001b[0m \u001b[0mfirst_order_method\u001b[0m\u001b[1;33m(\u001b[0m\u001b[1;33m(\u001b[0m\u001b[0mat\u001b[0m\u001b[1;33m,\u001b[0m \u001b[0mbt\u001b[0m\u001b[1;33m)\u001b[0m\u001b[1;33m,\u001b[0m \u001b[0mcentral_path\u001b[0m\u001b[1;33m,\u001b[0m \u001b[0mcentral_path_grad\u001b[0m\u001b[1;33m,\u001b[0m \u001b[0mct\u001b[0m\u001b[1;33m,\u001b[0m \u001b[1;36m0.001\u001b[0m\u001b[1;33m,\u001b[0m \u001b[0mm\u001b[0m\u001b[1;33m,\u001b[0m \u001b[0mn\u001b[0m\u001b[1;33m,\u001b[0m \u001b[1;36m1.\u001b[0m\u001b[1;33m)\u001b[0m\u001b[1;33m\u001b[0m\u001b[1;33m\u001b[0m\u001b[0m\n\u001b[0m",
      "\u001b[1;32mD:\\Work\\IIB\\4M17\\Convex Optimisation\\central_path.py\u001b[0m in \u001b[0;36mfirst_order_method\u001b[1;34m(data, func, grad, cvec, epsilon, m, n, u)\u001b[0m\n\u001b[0;32m     82\u001b[0m                 \u001b[1;31m# print(iteration, func(x, cvec, data[0], data[1], u))\u001b[0m\u001b[1;33m\u001b[0m\u001b[1;33m\u001b[0m\u001b[0m\n\u001b[0;32m     83\u001b[0m                 \u001b[0mstep_dir\u001b[0m \u001b[1;33m=\u001b[0m \u001b[1;33m-\u001b[0m\u001b[1;36m1\u001b[0m\u001b[1;33m*\u001b[0m\u001b[0mgrad\u001b[0m\u001b[1;33m(\u001b[0m\u001b[0mx\u001b[0m\u001b[1;33m,\u001b[0m \u001b[0mcvec\u001b[0m\u001b[1;33m,\u001b[0m \u001b[0mdata\u001b[0m\u001b[1;33m[\u001b[0m\u001b[1;36m0\u001b[0m\u001b[1;33m]\u001b[0m\u001b[1;33m,\u001b[0m \u001b[0mdata\u001b[0m\u001b[1;33m[\u001b[0m\u001b[1;36m1\u001b[0m\u001b[1;33m]\u001b[0m\u001b[1;33m,\u001b[0m \u001b[0mu\u001b[0m\u001b[1;33m)\u001b[0m\u001b[1;33m\u001b[0m\u001b[1;33m\u001b[0m\u001b[0m\n\u001b[1;32m---> 84\u001b[1;33m                 \u001b[0mstep_len\u001b[0m \u001b[1;33m=\u001b[0m \u001b[0mbacktrack\u001b[0m\u001b[1;33m(\u001b[0m\u001b[0mx\u001b[0m\u001b[1;33m,\u001b[0m \u001b[0mdata\u001b[0m\u001b[1;33m,\u001b[0m \u001b[0mfunc\u001b[0m\u001b[1;33m,\u001b[0m \u001b[0mgrad\u001b[0m\u001b[1;33m,\u001b[0m \u001b[1;36m0.2\u001b[0m\u001b[1;33m,\u001b[0m \u001b[1;36m0.4\u001b[0m\u001b[1;33m,\u001b[0m \u001b[0mcvec\u001b[0m\u001b[1;33m,\u001b[0m \u001b[0mu\u001b[0m\u001b[1;33m)\u001b[0m\u001b[1;33m\u001b[0m\u001b[1;33m\u001b[0m\u001b[0m\n\u001b[0m\u001b[0;32m     85\u001b[0m                 \u001b[1;31m# print('step len: '+str(step_len))\u001b[0m\u001b[1;33m\u001b[0m\u001b[1;33m\u001b[0m\u001b[0m\n\u001b[0;32m     86\u001b[0m                 \u001b[0mx\u001b[0m \u001b[1;33m+=\u001b[0m \u001b[1;33m(\u001b[0m\u001b[0mstep_len\u001b[0m \u001b[1;33m*\u001b[0m \u001b[0mstep_dir\u001b[0m\u001b[1;33m)\u001b[0m\u001b[1;33m\u001b[0m\u001b[1;33m\u001b[0m\u001b[0m\n",
      "\u001b[1;32mD:\\Work\\IIB\\4M17\\Convex Optimisation\\central_path.py\u001b[0m in \u001b[0;36mbacktrack\u001b[1;34m(x, data, func, grad, alpha, beta, cvec, u)\u001b[0m\n\u001b[0;32m     61\u001b[0m         \u001b[0mt\u001b[0m \u001b[1;33m=\u001b[0m \u001b[1;36m1\u001b[0m\u001b[1;33m\u001b[0m\u001b[1;33m\u001b[0m\u001b[0m\n\u001b[0;32m     62\u001b[0m         \u001b[0mcurrent_func\u001b[0m \u001b[1;33m=\u001b[0m \u001b[0mfunc\u001b[0m\u001b[1;33m(\u001b[0m\u001b[0mx\u001b[0m\u001b[1;33m,\u001b[0m \u001b[0mcvec\u001b[0m\u001b[1;33m,\u001b[0m \u001b[0mdata\u001b[0m\u001b[1;33m[\u001b[0m\u001b[1;36m0\u001b[0m\u001b[1;33m]\u001b[0m\u001b[1;33m,\u001b[0m \u001b[0mdata\u001b[0m\u001b[1;33m[\u001b[0m\u001b[1;36m1\u001b[0m\u001b[1;33m]\u001b[0m\u001b[1;33m,\u001b[0m \u001b[0mu\u001b[0m\u001b[1;33m)\u001b[0m\u001b[1;33m\u001b[0m\u001b[1;33m\u001b[0m\u001b[0m\n\u001b[1;32m---> 63\u001b[1;33m         \u001b[0mgradient\u001b[0m \u001b[1;33m=\u001b[0m \u001b[0mgrad\u001b[0m\u001b[1;33m(\u001b[0m\u001b[0mx\u001b[0m\u001b[1;33m,\u001b[0m \u001b[0mcvec\u001b[0m\u001b[1;33m,\u001b[0m \u001b[0mdata\u001b[0m\u001b[1;33m[\u001b[0m\u001b[1;36m0\u001b[0m\u001b[1;33m]\u001b[0m\u001b[1;33m,\u001b[0m \u001b[0mdata\u001b[0m\u001b[1;33m[\u001b[0m\u001b[1;36m1\u001b[0m\u001b[1;33m]\u001b[0m\u001b[1;33m,\u001b[0m \u001b[0mu\u001b[0m\u001b[1;33m)\u001b[0m\u001b[1;33m\u001b[0m\u001b[1;33m\u001b[0m\u001b[0m\n\u001b[0m\u001b[0;32m     64\u001b[0m         \u001b[0mstep\u001b[0m \u001b[1;33m=\u001b[0m \u001b[1;33m-\u001b[0m\u001b[1;36m1\u001b[0m\u001b[1;33m*\u001b[0m\u001b[0malpha\u001b[0m\u001b[1;33m*\u001b[0m\u001b[1;33m(\u001b[0m\u001b[0mnp\u001b[0m\u001b[1;33m.\u001b[0m\u001b[0mlinalg\u001b[0m\u001b[1;33m.\u001b[0m\u001b[0mnorm\u001b[0m\u001b[1;33m(\u001b[0m\u001b[0mgradient\u001b[0m\u001b[1;33m)\u001b[0m\u001b[1;33m**\u001b[0m\u001b[1;36m2\u001b[0m\u001b[1;33m)\u001b[0m\u001b[1;33m\u001b[0m\u001b[1;33m\u001b[0m\u001b[0m\n\u001b[0;32m     65\u001b[0m         \u001b[0mnew_func\u001b[0m \u001b[1;33m=\u001b[0m \u001b[0mfunc\u001b[0m\u001b[1;33m(\u001b[0m\u001b[1;33m(\u001b[0m\u001b[0mx\u001b[0m\u001b[1;33m-\u001b[0m\u001b[0mt\u001b[0m\u001b[1;33m*\u001b[0m\u001b[0mgradient\u001b[0m\u001b[1;33m)\u001b[0m\u001b[1;33m,\u001b[0m \u001b[0mcvec\u001b[0m\u001b[1;33m,\u001b[0m \u001b[0mdata\u001b[0m\u001b[1;33m[\u001b[0m\u001b[1;36m0\u001b[0m\u001b[1;33m]\u001b[0m\u001b[1;33m,\u001b[0m \u001b[0mdata\u001b[0m\u001b[1;33m[\u001b[0m\u001b[1;36m1\u001b[0m\u001b[1;33m]\u001b[0m\u001b[1;33m,\u001b[0m \u001b[0mu\u001b[0m\u001b[1;33m)\u001b[0m\u001b[1;33m\u001b[0m\u001b[1;33m\u001b[0m\u001b[0m\n",
      "\u001b[1;32mD:\\Work\\IIB\\4M17\\Convex Optimisation\\central_path.py\u001b[0m in \u001b[0;36mcentral_path_grad\u001b[1;34m(x, c, a, b, t)\u001b[0m\n\u001b[0;32m     30\u001b[0m         \u001b[1;31m# for i in range(b.size[0]):\u001b[0m\u001b[1;33m\u001b[0m\u001b[1;33m\u001b[0m\u001b[0m\n\u001b[0;32m     31\u001b[0m         \u001b[1;31m#       term2 += a[i,:]/(b[i]-np.dot(a[i,:], x))\u001b[0m\u001b[1;33m\u001b[0m\u001b[1;33m\u001b[0m\u001b[0m\n\u001b[1;32m---> 32\u001b[1;33m         \u001b[0mterm2\u001b[0m \u001b[1;33m=\u001b[0m \u001b[0mnp\u001b[0m\u001b[1;33m.\u001b[0m\u001b[0msum\u001b[0m\u001b[1;33m(\u001b[0m\u001b[0ma\u001b[0m\u001b[1;33m/\u001b[0m\u001b[0mnp\u001b[0m\u001b[1;33m.\u001b[0m\u001b[0marray\u001b[0m\u001b[1;33m(\u001b[0m\u001b[0mb\u001b[0m \u001b[1;33m-\u001b[0m \u001b[0ma\u001b[0m\u001b[1;33m*\u001b[0m\u001b[0mx\u001b[0m\u001b[1;33m)\u001b[0m\u001b[1;33m,\u001b[0m \u001b[0maxis\u001b[0m\u001b[1;33m=\u001b[0m\u001b[1;36m0\u001b[0m\u001b[1;33m)\u001b[0m\u001b[1;33m\u001b[0m\u001b[1;33m\u001b[0m\u001b[0m\n\u001b[0m\u001b[0;32m     33\u001b[0m         \u001b[0mtotal\u001b[0m \u001b[1;33m=\u001b[0m \u001b[0mterm1\u001b[0m\u001b[1;33m.\u001b[0m\u001b[0mflatten\u001b[0m\u001b[1;33m(\u001b[0m\u001b[1;33m)\u001b[0m \u001b[1;33m+\u001b[0m \u001b[0mterm2\u001b[0m\u001b[1;33m\u001b[0m\u001b[1;33m\u001b[0m\u001b[0m\n\u001b[0;32m     34\u001b[0m         \u001b[1;32mreturn\u001b[0m \u001b[0mmatrix\u001b[0m\u001b[1;33m(\u001b[0m\u001b[0mtotal\u001b[0m\u001b[1;33m)\u001b[0m\u001b[1;33m\u001b[0m\u001b[1;33m\u001b[0m\u001b[0m\n",
      "\u001b[1;31mKeyboardInterrupt\u001b[0m: "
     ]
    }
   ],
   "source": [
    "x = first_order_method((at, bt), central_path, central_path_grad, ct, 0.001, m, n, 1.)"
   ]
  },
  {
   "cell_type": "code",
   "execution_count": 5,
   "id": "f89756dd",
   "metadata": {},
   "outputs": [
    {
     "name": "stdout",
     "output_type": "stream",
     "text": [
      "     pcost       dcost       gap    pres   dres   k/t\n",
      " 0:  5.0848e+00  2.4176e+01  6e+03  4e+00  3e+03  1e+00\n",
      " 1: -3.6572e+11  1.6414e+01  2e+03  2e+00  1e+03  5e+00\n",
      "Certificate of dual infeasibility found.\n"
     ]
    },
    {
     "name": "stderr",
     "output_type": "stream",
     "text": [
      "D:\\Work\\IIB\\4M17\\Convex Optimisation\\central_path.py:18: RuntimeWarning: invalid value encountered in log\n",
      "  term2 = np.sum(np.log(b - (a*x)), axis=0)\n"
     ]
    },
    {
     "name": "stdout",
     "output_type": "stream",
     "text": [
      "0.5 [335.06592637]\n",
      "     pcost       dcost       gap    pres   dres   k/t\n",
      " 0:  5.0848e+00  2.4176e+01  6e+03  4e+00  3e+03  1e+00\n",
      " 1: -3.6572e+11  1.6414e+01  2e+03  2e+00  1e+03  5e+00\n",
      "Certificate of dual infeasibility found.\n",
      "1.0 [335.06592637]\n",
      "     pcost       dcost       gap    pres   dres   k/t\n",
      " 0:  5.0848e+00  2.4176e+01  6e+03  4e+00  3e+03  1e+00\n",
      " 1: -3.6572e+11  1.6414e+01  2e+03  2e+00  1e+03  5e+00\n",
      "Certificate of dual infeasibility found.\n",
      "1.5 [335.06592637]\n",
      "     pcost       dcost       gap    pres   dres   k/t\n",
      " 0:  5.0848e+00  2.4176e+01  6e+03  4e+00  3e+03  1e+00\n",
      " 1: -3.6572e+11  1.6414e+01  2e+03  2e+00  1e+03  5e+00\n",
      "Certificate of dual infeasibility found.\n",
      "2.0 [335.06592637]\n",
      "     pcost       dcost       gap    pres   dres   k/t\n",
      " 0:  5.0848e+00  2.4176e+01  6e+03  4e+00  3e+03  1e+00\n",
      " 1: -3.6572e+11  1.6414e+01  2e+03  2e+00  1e+03  5e+00\n",
      "Certificate of dual infeasibility found.\n",
      "2.5 [335.06592637]\n",
      "     pcost       dcost       gap    pres   dres   k/t\n",
      " 0:  5.0848e+00  2.4176e+01  6e+03  4e+00  3e+03  1e+00\n",
      " 1: -3.6572e+11  1.6414e+01  2e+03  2e+00  1e+03  5e+00\n",
      "Certificate of dual infeasibility found.\n",
      "3.0 [335.06592637]\n",
      "     pcost       dcost       gap    pres   dres   k/t\n",
      " 0:  5.0848e+00  2.4176e+01  6e+03  4e+00  3e+03  1e+00\n",
      " 1: -3.6572e+11  1.6414e+01  2e+03  2e+00  1e+03  5e+00\n",
      "Certificate of dual infeasibility found.\n",
      "3.5 [335.06592637]\n",
      "     pcost       dcost       gap    pres   dres   k/t\n",
      " 0:  5.0848e+00  2.4176e+01  6e+03  4e+00  3e+03  1e+00\n",
      " 1: -3.6572e+11  1.6414e+01  2e+03  2e+00  1e+03  5e+00\n",
      "Certificate of dual infeasibility found.\n",
      "4.0 [335.06592637]\n",
      "     pcost       dcost       gap    pres   dres   k/t\n",
      " 0:  5.0848e+00  2.4176e+01  6e+03  4e+00  3e+03  1e+00\n",
      " 1: -3.6572e+11  1.6414e+01  2e+03  2e+00  1e+03  5e+00\n",
      "Certificate of dual infeasibility found.\n",
      "4.5 [335.06592637]\n",
      "     pcost       dcost       gap    pres   dres   k/t\n",
      " 0:  5.0848e+00  2.4176e+01  6e+03  4e+00  3e+03  1e+00\n",
      " 1: -3.6572e+11  1.6414e+01  2e+03  2e+00  1e+03  5e+00\n",
      "Certificate of dual infeasibility found.\n",
      "5.0 [335.06592637]\n",
      "     pcost       dcost       gap    pres   dres   k/t\n",
      " 0:  5.0848e+00  2.4176e+01  6e+03  4e+00  3e+03  1e+00\n",
      " 1: -3.6572e+11  1.6414e+01  2e+03  2e+00  1e+03  5e+00\n",
      "Certificate of dual infeasibility found.\n",
      "5.5 [335.06592637]\n",
      "     pcost       dcost       gap    pres   dres   k/t\n",
      " 0:  5.0848e+00  2.4176e+01  6e+03  4e+00  3e+03  1e+00\n",
      " 1: -3.6572e+11  1.6414e+01  2e+03  2e+00  1e+03  5e+00\n",
      "Certificate of dual infeasibility found.\n",
      "6.0 [335.06592637]\n",
      "     pcost       dcost       gap    pres   dres   k/t\n",
      " 0:  5.0848e+00  2.4176e+01  6e+03  4e+00  3e+03  1e+00\n",
      " 1: -3.6572e+11  1.6414e+01  2e+03  2e+00  1e+03  5e+00\n",
      "Certificate of dual infeasibility found.\n",
      "6.5 [335.06592637]\n",
      "     pcost       dcost       gap    pres   dres   k/t\n",
      " 0:  5.0848e+00  2.4176e+01  6e+03  4e+00  3e+03  1e+00\n",
      " 1: -3.6572e+11  1.6414e+01  2e+03  2e+00  1e+03  5e+00\n",
      "Certificate of dual infeasibility found.\n",
      "7.0 [335.06592637]\n",
      "     pcost       dcost       gap    pres   dres   k/t\n",
      " 0:  5.0848e+00  2.4176e+01  6e+03  4e+00  3e+03  1e+00\n",
      " 1: -3.6572e+11  1.6414e+01  2e+03  2e+00  1e+03  5e+00\n",
      "Certificate of dual infeasibility found.\n",
      "7.5 [335.06592637]\n",
      "     pcost       dcost       gap    pres   dres   k/t\n",
      " 0:  5.0848e+00  2.4176e+01  6e+03  4e+00  3e+03  1e+00\n",
      " 1: -3.6572e+11  1.6414e+01  2e+03  2e+00  1e+03  5e+00\n",
      "Certificate of dual infeasibility found.\n",
      "8.0 [335.06592637]\n",
      "     pcost       dcost       gap    pres   dres   k/t\n",
      " 0:  5.0848e+00  2.4176e+01  6e+03  4e+00  3e+03  1e+00\n",
      " 1: -3.6572e+11  1.6414e+01  2e+03  2e+00  1e+03  5e+00\n",
      "Certificate of dual infeasibility found.\n",
      "8.5 [335.06592637]\n",
      "     pcost       dcost       gap    pres   dres   k/t\n",
      " 0:  5.0848e+00  2.4176e+01  6e+03  4e+00  3e+03  1e+00\n",
      " 1: -3.6572e+11  1.6414e+01  2e+03  2e+00  1e+03  5e+00\n",
      "Certificate of dual infeasibility found.\n",
      "9.0 [335.06592637]\n",
      "     pcost       dcost       gap    pres   dres   k/t\n",
      " 0:  5.0848e+00  2.4176e+01  6e+03  4e+00  3e+03  1e+00\n",
      " 1: -3.6572e+11  1.6414e+01  2e+03  2e+00  1e+03  5e+00\n",
      "Certificate of dual infeasibility found.\n",
      "9.5 [335.06592637]\n",
      "     pcost       dcost       gap    pres   dres   k/t\n",
      " 0:  5.0848e+00  2.4176e+01  6e+03  4e+00  3e+03  1e+00\n",
      " 1: -3.6572e+11  1.6414e+01  2e+03  2e+00  1e+03  5e+00\n",
      "Certificate of dual infeasibility found.\n",
      "10.0 [335.06592637]\n"
     ]
    }
   ],
   "source": [
    "for t in ts:\n",
    "    _, f = first_order_method((at, bt), central_path, central_path_grad, ct, 0.001, m, n, 1.)\n",
    "    print(t, f)"
   ]
  },
  {
   "cell_type": "code",
   "execution_count": null,
   "id": "60641af6",
   "metadata": {},
   "outputs": [],
   "source": []
  }
 ],
 "metadata": {
  "kernelspec": {
   "display_name": "Python 3 (ipykernel)",
   "language": "python",
   "name": "python3"
  },
  "language_info": {
   "codemirror_mode": {
    "name": "ipython",
    "version": 3
   },
   "file_extension": ".py",
   "mimetype": "text/x-python",
   "name": "python",
   "nbconvert_exporter": "python",
   "pygments_lexer": "ipython3",
   "version": "3.9.7"
  }
 },
 "nbformat": 4,
 "nbformat_minor": 5
}
