{
 "cells": [
  {
   "cell_type": "code",
   "execution_count": 1,
   "metadata": {},
   "outputs": [],
   "source": [
    "import numpy as np\n",
    "from data_loader import load_npy\n",
    "import matplotlib.pyplot as plt\n",
    "from cvxopt import matrix\n",
    "%matplotlib notebook"
   ]
  },
  {
   "cell_type": "markdown",
   "metadata": {},
   "source": [
    "# Norm approximation"
   ]
  },
  {
   "cell_type": "code",
   "execution_count": 2,
   "metadata": {},
   "outputs": [],
   "source": [
    "a1, b1 = load_npy(1)\n",
    "a2, b2 = load_npy(2)\n",
    "a3, b3 = load_npy(3)\n",
    "a4, b4 = load_npy(4)\n",
    "a5, b5 = load_npy(5)"
   ]
  },
  {
   "cell_type": "code",
   "execution_count": 3,
   "metadata": {},
   "outputs": [],
   "source": [
    "from norm_approximation import solve_linf, solve_lone, solve_ltwo"
   ]
  },
  {
   "cell_type": "code",
   "execution_count": 4,
   "metadata": {
    "scrolled": true
   },
   "outputs": [
    {
     "name": "stdout",
     "output_type": "stream",
     "text": [
      "     pcost       dcost       gap    pres   dres   k/t\n",
      " 0:  0.0000e+00 -1.6653e-15  1e+03  4e+00  3e-16  1e+00\n",
      " 1:  7.0053e+01  7.0054e+01  2e+02  6e-01  2e-15  2e-01\n",
      " 2:  1.2442e+02  1.2442e+02  6e+01  2e-01  2e-14  6e-02\n",
      " 3:  1.3688e+02  1.3688e+02  3e+01  9e-02  3e-14  2e-02\n",
      " 4:  1.4170e+02  1.4170e+02  1e+01  3e-02  3e-14  1e-02\n",
      " 5:  1.4362e+02  1.4362e+02  4e+00  1e-02  5e-14  4e-03\n",
      " 6:  1.4438e+02  1.4438e+02  2e+00  6e-03  7e-14  2e-03\n",
      " 7:  1.4471e+02  1.4471e+02  5e-01  2e-03  1e-13  5e-04\n",
      " 8:  1.4479e+02  1.4479e+02  3e-01  9e-04  1e-13  3e-04\n",
      " 9:  1.4484e+02  1.4484e+02  1e-01  3e-04  6e-13  1e-04\n",
      "10:  1.4486e+02  1.4486e+02  2e-02  8e-05  5e-13  2e-05\n",
      "11:  1.4486e+02  1.4486e+02  5e-03  2e-05  5e-13  5e-06\n",
      "12:  1.4486e+02  1.4486e+02  4e-04  1e-06  1e-12  3e-07\n",
      "13:  1.4486e+02  1.4486e+02  4e-06  1e-08  1e-12  4e-09\n",
      "Optimal solution found.\n"
     ]
    }
   ],
   "source": [
    "x, s = solve_lone(a3, b3)"
   ]
  },
  {
   "cell_type": "code",
   "execution_count": 5,
   "metadata": {},
   "outputs": [
    {
     "name": "stdout",
     "output_type": "stream",
     "text": [
      "[ 1.45e+02]\n",
      "\n"
     ]
    }
   ],
   "source": [
    "n=256\n",
    "m=2*n\n",
    "czs = np.zeros(n)\n",
    "cones = np.ones(m)\n",
    "cstack = np.hstack((czs, cones))\n",
    "c3 = matrix(cstack)\n",
    "print(c3.T*x)"
   ]
  },
  {
   "cell_type": "markdown",
   "metadata": {},
   "source": [
    "Optimal value is 145"
   ]
  },
  {
   "cell_type": "markdown",
   "metadata": {},
   "source": [
    "# Barrier Methods"
   ]
  },
  {
   "cell_type": "code",
   "execution_count": 6,
   "metadata": {},
   "outputs": [],
   "source": [
    "from central_path import *"
   ]
  },
  {
   "cell_type": "code",
   "execution_count": 7,
   "metadata": {},
   "outputs": [],
   "source": [
    "a, b = load_npy(3)\n",
    "m = a.shape[0]\n",
    "n = a.shape[1]\n",
    "at, bt = build_l1_tildes(a, b)\n",
    "c1 = np.zeros(n)\n",
    "c2 = np.ones(m)\n",
    "ct = np.hstack((c1, c2))\n",
    "ct = matrix(ct)"
   ]
  },
  {
   "cell_type": "code",
   "execution_count": null,
   "metadata": {},
   "outputs": [
    {
     "name": "stdout",
     "output_type": "stream",
     "text": [
      "     pcost       dcost       gap    pres   dres   k/t\n",
      " 0:  2.4085e+01  2.4731e+01  6e+03  4e+00  3e+03  1e+00\n",
      " 1: -1.1469e+12  1.6204e+01  2e+03  2e+00  1e+03  5e+00\n",
      "Certificate of dual infeasibility found.\n"
     ]
    },
    {
     "name": "stderr",
     "output_type": "stream",
     "text": [
      "/Users/joejohnson/Documents/convex-optimisation/central_path.py:18: RuntimeWarning: invalid value encountered in log\n",
      "  term2 = np.sum(np.log(b - (a*x)), axis=0)\n"
     ]
    }
   ],
   "source": [
    "x = first_order_method((at, bt), central_path, central_path_grad, ct, 10., m, n, 1000.)"
   ]
  },
  {
   "cell_type": "code",
   "execution_count": null,
   "metadata": {},
   "outputs": [],
   "source": [
    "print(x[1]/1000.)"
   ]
  },
  {
   "cell_type": "code",
   "execution_count": null,
   "metadata": {},
   "outputs": [],
   "source": [
    "len(x[2])"
   ]
  },
  {
   "cell_type": "code",
   "execution_count": null,
   "metadata": {},
   "outputs": [],
   "source": [
    "plt.figure()\n",
    "plt.plot(np.arange(len(x[2])), x[2])"
   ]
  },
  {
   "cell_type": "code",
   "execution_count": null,
   "metadata": {},
   "outputs": [],
   "source": [
    "plt.figure()\n",
    "plt.semilogx(np.arange(len(x[2])), x[2])"
   ]
  },
  {
   "cell_type": "code",
   "execution_count": null,
   "metadata": {},
   "outputs": [],
   "source": []
  }
 ],
 "metadata": {
  "kernelspec": {
   "display_name": "Python 3",
   "language": "python",
   "name": "python3"
  },
  "language_info": {
   "codemirror_mode": {
    "name": "ipython",
    "version": 3
   },
   "file_extension": ".py",
   "mimetype": "text/x-python",
   "name": "python",
   "nbconvert_exporter": "python",
   "pygments_lexer": "ipython3",
   "version": "3.7.6"
  }
 },
 "nbformat": 4,
 "nbformat_minor": 5
}
