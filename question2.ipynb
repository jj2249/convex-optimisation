{
 "cells": [
  {
   "cell_type": "code",
   "execution_count": 1,
   "id": "8c086cf7",
   "metadata": {},
   "outputs": [
    {
     "name": "stderr",
     "output_type": "stream",
     "text": [
      "UsageError: Line magic function `%loadext` not found.\n"
     ]
    }
   ],
   "source": [
    "import numpy as np\n",
    "from data_loader import load_npy\n",
    "import matplotlib.pyplot as plt\n",
    "from cvxopt import matrix\n",
    "%matplotlib notebook\n",
    "%loadext auto_reload\n",
    "%auto_reload 2"
   ]
  },
  {
   "cell_type": "markdown",
   "id": "2ea84c2d",
   "metadata": {},
   "source": [
    "# Norm approximation"
   ]
  },
  {
   "cell_type": "code",
   "execution_count": 2,
   "id": "8c3279b9",
   "metadata": {},
   "outputs": [],
   "source": [
    "a1, b1 = load_npy(1)\n",
    "a2, b2 = load_npy(2)\n",
    "a3, b3 = load_npy(3)\n",
    "a4, b4 = load_npy(4)\n",
    "a5, b5 = load_npy(5)"
   ]
  },
  {
   "cell_type": "code",
   "execution_count": 3,
   "id": "cedc5197",
   "metadata": {},
   "outputs": [],
   "source": [
    "from norm_approximation import solve_linf, solve_lone, solve_ltwo"
   ]
  },
  {
   "cell_type": "code",
   "execution_count": 4,
   "id": "48438440",
   "metadata": {
    "scrolled": true
   },
   "outputs": [
    {
     "name": "stdout",
     "output_type": "stream",
     "text": [
      "     pcost       dcost       gap    pres   dres   k/t\n",
      " 0:  0.0000e+00  1.9429e-16  6e+01  3e+00  2e-16  1e+00\n",
      " 1:  3.7912e+00  3.7898e+00  1e+01  5e-01  5e-16  2e-01\n",
      " 2:  6.9143e+00  6.9137e+00  3e+00  2e-01  3e-15  5e-02\n",
      " 3:  7.6509e+00  7.6507e+00  6e-01  3e-02  8e-15  9e-03\n",
      " 4:  7.8159e+00  7.8159e+00  9e-02  5e-03  6e-15  1e-03\n",
      " 5:  7.8413e+00  7.8413e+00  2e-02  1e-03  8e-15  4e-04\n",
      " 6:  7.8450e+00  7.8450e+00  9e-03  5e-04  2e-13  1e-04\n",
      " 7:  7.8475e+00  7.8475e+00  3e-04  1e-05  2e-14  4e-06\n",
      " 8:  7.8475e+00  7.8475e+00  3e-06  1e-07  2e-14  4e-08\n",
      " 9:  7.8475e+00  7.8475e+00  3e-08  1e-09  2e-14  4e-10\n",
      "Optimal solution found.\n"
     ]
    }
   ],
   "source": [
    "x, s = solve_lone(a1, b1)"
   ]
  },
  {
   "cell_type": "code",
   "execution_count": 5,
   "id": "a0360e8e",
   "metadata": {},
   "outputs": [
    {
     "name": "stdout",
     "output_type": "stream",
     "text": [
      "[ 7.85e+00]\n",
      "\n"
     ]
    }
   ],
   "source": [
    "n=16\n",
    "m=2*n\n",
    "czs = np.zeros(n)\n",
    "cones = np.ones(m)\n",
    "cstack = np.hstack((czs, cones))\n",
    "c3 = matrix(cstack)\n",
    "print(c3.T*x)"
   ]
  },
  {
   "cell_type": "markdown",
   "id": "80683be7",
   "metadata": {},
   "source": [
    "Optimal value is 145"
   ]
  },
  {
   "cell_type": "markdown",
   "id": "5445d4e8",
   "metadata": {},
   "source": [
    "# Barrier Methods"
   ]
  },
  {
   "cell_type": "code",
   "execution_count": 6,
   "id": "1e266c34",
   "metadata": {},
   "outputs": [],
   "source": [
    "from central_path import *"
   ]
  },
  {
   "cell_type": "code",
   "execution_count": 7,
   "id": "a8221c67",
   "metadata": {},
   "outputs": [],
   "source": [
    "a, b = load_npy(1)\n",
    "m = a.shape[0]\n",
    "n = a.shape[1]\n",
    "at, bt = build_l1_tildes(a, b)\n",
    "c1 = np.zeros(n)\n",
    "c2 = np.ones(m)\n",
    "ct = np.hstack((c1, c2))\n",
    "ct = matrix(ct)"
   ]
  },
  {
   "cell_type": "code",
   "execution_count": 8,
   "id": "bf1428f0",
   "metadata": {},
   "outputs": [
    {
     "name": "stdout",
     "output_type": "stream",
     "text": [
      "     pcost       dcost       gap    pres   dres   k/t\n",
      " 0:  9.4451e-02  4.9076e-01  1e+02  3e+00  7e+01  1e+00\n",
      " 1: -1.7148e+14  2.2397e+00  9e+00  7e-01  1e+01  4e+00\n",
      "Certificate of dual infeasibility found.\n"
     ]
    },
    {
     "name": "stderr",
     "output_type": "stream",
     "text": [
      "D:\\Work\\IIB\\4M17\\Convex Optimisation\\central_path.py:18: RuntimeWarning: invalid value encountered in log\n",
      "  term2 = np.sum(np.log(b - (a*x)), axis=0)\n"
     ]
    }
   ],
   "source": [
    "x = first_order_method((at, bt), central_path, central_path_grad, ct, 0.001, m, n, 1.)"
   ]
  },
  {
   "cell_type": "code",
   "execution_count": 12,
   "id": "2f1e00f3",
   "metadata": {},
   "outputs": [
    {
     "data": {
      "text/plain": [
       "<48x1 matrix, tc='d'>"
      ]
     },
     "execution_count": 12,
     "metadata": {},
     "output_type": "execute_result"
    }
   ],
   "source": [
    "ct"
   ]
  },
  {
   "cell_type": "code",
   "execution_count": 13,
   "id": "a820d12e",
   "metadata": {},
   "outputs": [
    {
     "data": {
      "text/plain": [
       "(<48x1 matrix, tc='d'>, array([20.6910229]))"
      ]
     },
     "execution_count": 13,
     "metadata": {},
     "output_type": "execute_result"
    }
   ],
   "source": [
    "x"
   ]
  },
  {
   "cell_type": "code",
   "execution_count": 15,
   "id": "c35b034c",
   "metadata": {},
   "outputs": [
    {
     "name": "stdout",
     "output_type": "stream",
     "text": [
      "[ 6.60e+01]\n",
      "\n"
     ]
    }
   ],
   "source": [
    "print(ct.T*x[0])"
   ]
  },
  {
   "cell_type": "code",
   "execution_count": null,
   "id": "24f8fd6e",
   "metadata": {},
   "outputs": [],
   "source": []
  }
 ],
 "metadata": {
  "kernelspec": {
   "display_name": "Python 3 (ipykernel)",
   "language": "python",
   "name": "python3"
  },
  "language_info": {
   "codemirror_mode": {
    "name": "ipython",
    "version": 3
   },
   "file_extension": ".py",
   "mimetype": "text/x-python",
   "name": "python",
   "nbconvert_exporter": "python",
   "pygments_lexer": "ipython3",
   "version": "3.9.7"
  }
 },
 "nbformat": 4,
 "nbformat_minor": 5
}
